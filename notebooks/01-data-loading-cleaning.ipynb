{
 "cells": [
  {
   "cell_type": "markdown",
   "metadata": {},
   "source": [
    "# Capstone Project"
   ]
  },
  {
   "cell_type": "markdown",
   "metadata": {},
   "source": [
    "**Introduction**\n",
    "\n",
    "In this capstone project I will...\n",
    "\n",
    "In this notebook I will be loading in the data for the capstone project. This data was found on kaggles website but was curated by the CDC of America. The data is about different responses to health related questions regarding the public."
   ]
  },
  {
   "cell_type": "markdown",
   "metadata": {},
   "source": [
    "**Libraries**"
   ]
  },
  {
   "cell_type": "markdown",
   "metadata": {},
   "source": [
    "Only 3 libraries need to be imported pandas, numpy and matplotlib.pyplot."
   ]
  },
  {
   "cell_type": "code",
   "execution_count": null,
   "metadata": {},
   "outputs": [],
   "source": [
    "# Imported Libraries \n",
    "import pandas as pd # pandas library \n",
    "import numpy as np # numpy library\n",
    "import matplotlib.pyplot as plt # Import the pyplot (pythonplot) part of the matlotlib library"
   ]
  },
  {
   "cell_type": "markdown",
   "metadata": {},
   "source": [
    "### Global Perameters"
   ]
  },
  {
   "cell_type": "markdown",
   "metadata": {},
   "source": [
    "Setting the global parameters for the project, 8.0 and 6.0 is a good universal size for plots to be shown with enough context, while not squishing anything so it is unreadable."
   ]
  },
  {
   "cell_type": "code",
   "execution_count": null,
   "metadata": {},
   "outputs": [],
   "source": [
    "# Show all dataframe columns\n",
    "pd.set_option('display.max_columns', None)\n",
    "# Set matplotlib global settings\n",
    "plt.rcParams['figure.figsize'] = (8.0, 6.0)"
   ]
  },
  {
   "cell_type": "markdown",
   "metadata": {},
   "source": [
    "### Helper Functions"
   ]
  },
  {
   "cell_type": "markdown",
   "metadata": {},
   "source": [
    "Below are the helper functions used to help with this project:"
   ]
  },
  {
   "cell_type": "markdown",
   "metadata": {},
   "source": [
    "This functions dq_checks, is a sanity check function that allows me to look through a dataframe and return a irregularities description of the dataframe specified. "
   ]
  },
  {
   "cell_type": "code",
   "execution_count": null,
   "metadata": {},
   "outputs": [],
   "source": [
    "# checks the data for everything stated below\n",
    "def dq_checks(df):\n",
    "    print(\"+----------DataFrame Quality Report----------+\")\n",
    "    n_rows, n_cols=df.shape\n",
    "    n_nulls = df.isna().sum().sum() # 2 sums - total null values for all columns\n",
    "    n_row_dups = df.duplicated().sum()\n",
    "    n_col_dups = df.T.duplicated().sum() # transpost the column for a duplicated column\n",
    "    return (\n",
    "    f\"\"\"\n",
    "    No. of rows: {n_rows}\n",
    "    No. of columns: {n_cols}\n",
    "    No. of missing values: {n_nulls}\n",
    "    No. of duplicated rows: {n_row_dups}\n",
    "    No. of duplicated columns: {n_col_dups}\n",
    "    \"\"\"\n",
    ")"
   ]
  },
  {
   "cell_type": "markdown",
   "metadata": {},
   "source": [
    "## Data Loading"
   ]
  },
  {
   "cell_type": "markdown",
   "metadata": {},
   "source": [
    "Loading the data needed to progress with the capstone project."
   ]
  },
  {
   "cell_type": "code",
   "execution_count": null,
   "metadata": {},
   "outputs": [],
   "source": [
    "# Data loading for github only\n",
    "\n",
    "CLN_DATA_PATH='../data/heart_2022_with_nans.csv'\n",
    "\n",
    "try:\n",
    "    heart_attack_raw = pd.read_csv(CLN_DATA_PATH)\n",
    "    print(\"Data loaded successfully.\")\n",
    "except FileNotFoundError:\n",
    "    print(\"ERROR: The data file does not exist.\")"
   ]
  },
  {
   "cell_type": "markdown",
   "metadata": {},
   "source": [
    "---"
   ]
  }
 ],
 "metadata": {
  "kernelspec": {
   "display_name": "capstone",
   "language": "python",
   "name": "python3"
  },
  "language_info": {
   "name": "python",
   "version": "3.8.undefined"
  },
  "orig_nbformat": 4
 },
 "nbformat": 4,
 "nbformat_minor": 2
}
