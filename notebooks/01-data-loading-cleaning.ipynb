{
 "cells": [
  {
   "cell_type": "markdown",
   "metadata": {},
   "source": [
    "# Capstone Project"
   ]
  },
  {
   "cell_type": "markdown",
   "metadata": {},
   "source": [
    "**Libraries**"
   ]
  },
  {
   "cell_type": "code",
   "execution_count": null,
   "metadata": {},
   "outputs": [],
   "source": [
    "# Imported Libraries \n",
    "import pandas as pd # pandas library \n",
    "import numpy as np # numpy library\n",
    "import matplotlib.pyplot as plt # Import the pyplot (pythonplot) part of the matlotlib library\n",
    "import seaborn as sns # seaborn library"
   ]
  },
  {
   "cell_type": "markdown",
   "metadata": {},
   "source": [
    "## Introduction"
   ]
  },
  {
   "cell_type": "markdown",
   "metadata": {},
   "source": [
    "### Global Perameters"
   ]
  },
  {
   "cell_type": "code",
   "execution_count": null,
   "metadata": {},
   "outputs": [],
   "source": [
    "# Show all dataframe columns\n",
    "pd.set_option('display.max_columns', None)\n",
    "# Set matplotlib global settings\n",
    "plt.rcParams['figure.figsize'] = (8.0, 6.0)"
   ]
  },
  {
   "cell_type": "markdown",
   "metadata": {},
   "source": [
    "### Helper Functions"
   ]
  },
  {
   "cell_type": "code",
   "execution_count": null,
   "metadata": {},
   "outputs": [],
   "source": [
    "# checks the data for everything stated below\n",
    "def dq_checks(df):\n",
    "    print(\"+----------DataFrame Quality Report----------+\")\n",
    "    n_rows, n_cols=df.shape\n",
    "    n_nulls = df.isna().sum().sum() # 2 sums - total null values for all columns\n",
    "    n_row_dups = df.duplicated().sum()\n",
    "    n_col_dups = df.T.duplicated().sum() # transpost the column for a duplicated column\n",
    "    return (\n",
    "    f\"\"\"\n",
    "    No. of rows: {n_rows}\n",
    "    No. of columns: {n_cols}\n",
    "    No. of missing values: {n_nulls}\n",
    "    No. of duplicated rows: {n_row_dups}\n",
    "    No. of duplicated columns: {n_col_dups}\n",
    "    \"\"\"\n",
    ")"
   ]
  },
  {
   "cell_type": "markdown",
   "metadata": {},
   "source": [
    "## Data Loading"
   ]
  },
  {
   "cell_type": "code",
   "execution_count": null,
   "metadata": {},
   "outputs": [],
   "source": [
    "# Data loading for github only\n",
    "\n",
    "CLN_DATA_PATH='../data/heart_2022_with_nans.csv'\n",
    "\n",
    "try:\n",
    "    heart_attack_raw = pd.read_csv(CLN_DATA_PATH)\n",
    "    print(\"Data loaded successfully.\")\n",
    "except FileNotFoundError:\n",
    "    print(\"ERROR: The data file does not exist.\")"
   ]
  },
  {
   "cell_type": "markdown",
   "metadata": {},
   "source": [
    "---"
   ]
  }
 ],
 "metadata": {
  "language_info": {
   "name": "python"
  },
  "orig_nbformat": 4
 },
 "nbformat": 4,
 "nbformat_minor": 2
}
