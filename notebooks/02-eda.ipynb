{
 "cells": [
  {
   "cell_type": "markdown",
   "metadata": {},
   "source": [
    "# Exploratory Data Analysis - (EDA)"
   ]
  },
  {
   "cell_type": "code",
   "execution_count": null,
   "metadata": {},
   "outputs": [],
   "source": [
    "print(\"First 5 Rows of Data:\\n\")\n",
    "display(heart_attack_raw.head())\n",
    "print(\"\\n\\n\")\n",
    "print(\"Last 5 Rows of Data:\")\n",
    "display(heart_attack_raw.tail())"
   ]
  },
  {
   "cell_type": "code",
   "execution_count": null,
   "metadata": {},
   "outputs": [],
   "source": [
    "heart_attack_raw.shape"
   ]
  },
  {
   "cell_type": "code",
   "execution_count": null,
   "metadata": {},
   "outputs": [],
   "source": [
    "heart_attack_raw.index"
   ]
  },
  {
   "cell_type": "code",
   "execution_count": null,
   "metadata": {},
   "outputs": [],
   "source": [
    "heart_attack_raw.info()"
   ]
  },
  {
   "cell_type": "code",
   "execution_count": null,
   "metadata": {},
   "outputs": [],
   "source": [
    "heart_attack_raw.describe()"
   ]
  },
  {
   "cell_type": "code",
   "execution_count": null,
   "metadata": {},
   "outputs": [],
   "source": [
    "print(heart_attack_raw.columns.tolist())"
   ]
  },
  {
   "cell_type": "code",
   "execution_count": null,
   "metadata": {},
   "outputs": [],
   "source": [
    "heart_attack_raw.head(0)"
   ]
  },
  {
   "cell_type": "code",
   "execution_count": null,
   "metadata": {},
   "outputs": [],
   "source": [
    "for column in heart_attack_raw:\n",
    "    print(heart_attack_raw[column].value_counts())"
   ]
  },
  {
   "cell_type": "markdown",
   "metadata": {},
   "source": [
    "**Checking for Duplicates and Null Values**"
   ]
  },
  {
   "cell_type": "code",
   "execution_count": null,
   "metadata": {},
   "outputs": [],
   "source": [
    "print(dq_checks(heart_attack_raw))"
   ]
  },
  {
   "cell_type": "markdown",
   "metadata": {},
   "source": [
    "Duplicates"
   ]
  },
  {
   "cell_type": "code",
   "execution_count": null,
   "metadata": {},
   "outputs": [],
   "source": [
    "# How many duplicated rows are in the dataset\n",
    "heart_attack_raw.duplicated().value_counts()"
   ]
  },
  {
   "cell_type": "code",
   "execution_count": null,
   "metadata": {},
   "outputs": [],
   "source": [
    "print(f\"Amount of Duplicate Rows in the Dataset: {heart_attack_raw.duplicated().sum()}\")"
   ]
  },
  {
   "cell_type": "code",
   "execution_count": null,
   "metadata": {},
   "outputs": [],
   "source": [
    "print(f\"Duplicate Percentage of the Dataset: {(heart_attack_raw.duplicated().sum() / (len(heart_attack_raw)) * 100).round(2)}%\")"
   ]
  },
  {
   "cell_type": "markdown",
   "metadata": {},
   "source": [
    "Null Values"
   ]
  },
  {
   "cell_type": "code",
   "execution_count": null,
   "metadata": {},
   "outputs": [],
   "source": [
    "print(f\"Total Amount of Null Cells in the Dataset: {heart_attack_raw.isna().sum().sum()}\")"
   ]
  },
  {
   "cell_type": "code",
   "execution_count": null,
   "metadata": {},
   "outputs": [],
   "source": [
    "print(f\"\\033[1mThe Amount of Null Cells in each Column:\\033[0m\\n\\n\\\n",
    "{heart_attack_raw.isna().sum().sort_values(ascending=False)}\")"
   ]
  },
  {
   "cell_type": "code",
   "execution_count": null,
   "metadata": {},
   "outputs": [],
   "source": [
    "print(\"\\033[1mHeart Attack Raw - Null Percentage & Row Significance\\033[0m\\n\")\n",
    "\n",
    "for column in heart_attack_raw:\n",
    "\n",
    "    null_percentage = ((heart_attack_raw[column].isna().sum() / (len(heart_attack_raw))) * 100).round(2)\n",
    "    \n",
    "    \n",
    "    if null_percentage > 5:\n",
    "        print(f\"{column}: {null_percentage}% - Significant \\n\")\n",
    "\n",
    "    else:\n",
    "        print(f\"{column}: {null_percentage}% - Not Significant\\n\")"
   ]
  },
  {
   "cell_type": "markdown",
   "metadata": {},
   "source": [
    "**Analysis into each Column**\n",
    "\n",
    "Copying the Original Dataframe"
   ]
  },
  {
   "cell_type": "code",
   "execution_count": null,
   "metadata": {},
   "outputs": [],
   "source": [
    "print(\"\\033[1mCopying the Original Dataframe:\\033[0m\\n\")\n",
    "\n",
    "try:\n",
    "    heart_attack_raw_copy_plot = heart_attack_raw.copy()\n",
    "    print(\"Data copied successfully.\")\n",
    "except:\n",
    "    print(\"ERROR: The data has NOT been copied.\")"
   ]
  },
  {
   "cell_type": "code",
   "execution_count": null,
   "metadata": {},
   "outputs": [],
   "source": [
    "# Checking the copied data is loaded correctly\n",
    "heart_attack_raw_copy_plot.head()"
   ]
  },
  {
   "cell_type": "code",
   "execution_count": null,
   "metadata": {},
   "outputs": [],
   "source": [
    "heart_attack_raw_copy_plot.info()"
   ]
  },
  {
   "cell_type": "code",
   "execution_count": null,
   "metadata": {},
   "outputs": [],
   "source": [
    "print(f\"Columns in the dataset that contain floats:\\n\\n {heart_attack_raw_copy_plot.select_dtypes(include=[float]).columns}\")"
   ]
  },
  {
   "cell_type": "markdown",
   "metadata": {},
   "source": [
    "Changing the data type to plot the frequencies of each column to check for any bias"
   ]
  },
  {
   "cell_type": "code",
   "execution_count": null,
   "metadata": {},
   "outputs": [],
   "source": [
    "heart_attack_raw_copy_plot = heart_attack_raw_copy_plot.astype({\"PhysicalHealthDays\": object,\n",
    "                                                                \"MentalHealthDays\": object,\n",
    "                                                                \"SleepHours\": object, \n",
    "                                                                \"HeightInMeters\": object,\n",
    "                                                                \"WeightInKilograms\": object, \n",
    "                                                                \"BMI\": object})"
   ]
  },
  {
   "cell_type": "markdown",
   "metadata": {},
   "source": [
    "Checking the dataframe types have been changed"
   ]
  },
  {
   "cell_type": "code",
   "execution_count": null,
   "metadata": {},
   "outputs": [],
   "source": [
    "heart_attack_raw_copy_plot.info()"
   ]
  },
  {
   "cell_type": "code",
   "execution_count": null,
   "metadata": {},
   "outputs": [],
   "source": [
    "heart_attack_raw_copy_plot.head(1)"
   ]
  },
  {
   "cell_type": "code",
   "execution_count": null,
   "metadata": {},
   "outputs": [],
   "source": [
    "heart_attack_raw_copy_plot.nunique().sort_values(ascending=False)"
   ]
  },
  {
   "cell_type": "markdown",
   "metadata": {},
   "source": [
    "Plotting"
   ]
  },
  {
   "cell_type": "code",
   "execution_count": null,
   "metadata": {},
   "outputs": [],
   "source": [
    "print(\"Histogram Column Analysis\")\n",
    "\n",
    "# Setting the subplot layouts\n",
    "plt.subplots(10, 4, figsize=(20, 20))\n",
    "\n",
    "# Plotting histograms\n",
    "for i, column in enumerate(heart_attack_raw_copy_plot.columns, 1):\n",
    "    plt.subplot(10, 4, i)\n",
    "    plt.hist((heart_attack_raw_copy_plot[column]), bins= 30, color='blue', edgecolor=\"k\")\n",
    "    plt.title(column)\n",
    "    plt.ylabel(\"Frequency\")\n",
    "plt.tight_layout(pad=0.5, w_pad=0.5, h_pad=5.0)"
   ]
  },
  {
   "cell_type": "markdown",
   "metadata": {},
   "source": [
    "Changing the changed columns datatypes back to their originals"
   ]
  },
  {
   "cell_type": "code",
   "execution_count": null,
   "metadata": {},
   "outputs": [],
   "source": [
    "heart_attack_raw_copy_plot = heart_attack_raw_copy_plot.astype({\"PhysicalHealthDays\": float,\n",
    "                                                                \"MentalHealthDays\": float,\n",
    "                                                                \"SleepHours\": float, \n",
    "                                                                \"HeightInMeters\": float,\n",
    "                                                                \"WeightInKilograms\": float, \n",
    "                                                                \"BMI\": float})"
   ]
  },
  {
   "cell_type": "code",
   "execution_count": null,
   "metadata": {},
   "outputs": [],
   "source": [
    "print(\"Boxplot Numerical Column Analysis\")\n",
    "\n",
    "# Setting the subplot layouts\n",
    "plt.subplots(3, 2, figsize=(20, 10))\n",
    "\n",
    "# Obtaining only numeric columns\n",
    "numeric_columns = heart_attack_raw_copy_plot.select_dtypes(include=['number']).columns\n",
    "\n",
    "# Plotting histograms\n",
    "for i, column in enumerate(numeric_columns, 1):\n",
    "    plt.subplot(3, 2, i)\n",
    "    plt.boxplot(heart_attack_raw_copy_plot[column].dropna())\n",
    "    plt.title(column)\n",
    "    plt.ylabel(\"Value\")\n",
    "plt.tight_layout(pad=0.5, w_pad=0.5, h_pad=5.0)\n",
    "plt.show()"
   ]
  },
  {
   "cell_type": "code",
   "execution_count": null,
   "metadata": {},
   "outputs": [],
   "source": [
    "sns.heatmap(heart_attack_raw_copy_plot.isnull(), cbar=False)\n",
    "plt.title(\"Amount of Null Values (Black Square = 0 Null Values)\")\n",
    "plt.ylabel(\"Row Number\")\n",
    "plt.xlabel(\"Columns\")\n",
    "plt.show"
   ]
  },
  {
   "cell_type": "markdown",
   "metadata": {},
   "source": [
    "**Dealing with Duplictes and Null Values**"
   ]
  },
  {
   "cell_type": "markdown",
   "metadata": {},
   "source": [
    "Duplicates:\n",
    "\n",
    "Through dataframe analysis, the ammount of rows that are duplicates count to 157. \n",
    "\n",
    "This is 0.04% of the total dataset, which is an insignificant amount. \n",
    "\n",
    "I will proceed in dropping the rows as doing so will NOT affect the overall quality of the data."
   ]
  },
  {
   "cell_type": "code",
   "execution_count": null,
   "metadata": {},
   "outputs": [],
   "source": [
    "heart_attack_clean = heart_attack_raw_copy_plot.drop_duplicates()"
   ]
  },
  {
   "cell_type": "code",
   "execution_count": null,
   "metadata": {},
   "outputs": [],
   "source": [
    "heart_attack_clean.info()"
   ]
  },
  {
   "cell_type": "code",
   "execution_count": null,
   "metadata": {},
   "outputs": [],
   "source": [
    "heart_attack_clean.duplicated().sum()"
   ]
  },
  {
   "cell_type": "markdown",
   "metadata": {},
   "source": [
    "Null Values:\n",
    "\n",
    "There were 902665 null cells.\n",
    "\n",
    "With a range of null cells in each column from < 5% - 18.54% of null values in a column.\n",
    "\n",
    "This is % of the total dataset, which is\n",
    "\n",
    "I will proceed to drop the rows, as the dataset is so big at 445132 rows and 40 columns, dropping the rows will still give a substantial dataset that can be used further."
   ]
  },
  {
   "cell_type": "code",
   "execution_count": null,
   "metadata": {},
   "outputs": [],
   "source": [
    "heart_attack_clean = heart_attack_raw_copy_plot.dropna(keep=False)"
   ]
  },
  {
   "cell_type": "code",
   "execution_count": null,
   "metadata": {},
   "outputs": [],
   "source": [
    "heart_attack_clean.info()"
   ]
  },
  {
   "cell_type": "code",
   "execution_count": null,
   "metadata": {},
   "outputs": [],
   "source": [
    "heart_attack_clean.isna().sum()"
   ]
  },
  {
   "cell_type": "code",
   "execution_count": null,
   "metadata": {},
   "outputs": [],
   "source": [
    "sns.heatmap(heart_attack_clean.isnull(), cbar=False)\n",
    "plt.title(\"Amount of Null Volumes (Black Square = 0 Null Values)\")\n",
    "plt.ylabel(\"Row Number\")\n",
    "plt.xlabel(\"Columns\")\n",
    "plt.show"
   ]
  },
  {
   "cell_type": "markdown",
   "metadata": {},
   "source": [
    "---"
   ]
  },
  {
   "cell_type": "markdown",
   "metadata": {},
   "source": [
    "**Saving the Clean Data**"
   ]
  },
  {
   "cell_type": "code",
   "execution_count": null,
   "metadata": {},
   "outputs": [],
   "source": [
    "print(\"\\033[1mSaving the Cleaned Dataframe:\\033[0m\\n\")\n",
    "\n",
    "try:\n",
    "    heart_attack_clean.to_csv('heart_attack_clean.csv')\n",
    "    print(\"Data saved successfully.\")\n",
    "except:\n",
    "    print(\"ERROR: The data has NOT been saved.\")"
   ]
  },
  {
   "cell_type": "markdown",
   "metadata": {},
   "source": [
    "---"
   ]
  },
  {
   "cell_type": "markdown",
   "metadata": {},
   "source": [
    "**Correlation Matrix**"
   ]
  },
  {
   "cell_type": "markdown",
   "metadata": {},
   "source": [
    "Raw Data Correlation Matrix"
   ]
  },
  {
   "cell_type": "code",
   "execution_count": null,
   "metadata": {},
   "outputs": [],
   "source": [
    "# Select only numerical columns\n",
    "numeric_columns = heart_attack_raw_copy_plot.select_dtypes(include=['number'])\n",
    "\n",
    "# Compute the correlation matrix\n",
    "corr_matrix = numeric_columns.corr()\n",
    "\n",
    "# Create a heatmap\n",
    "plt.figure(figsize=(12, 10))\n",
    "sns.heatmap(corr_matrix, annot=True, cmap='coolwarm', fmt='.2f')\n",
    "plt.title('Raw Numeric Columns Only, Correlation Matrix Heatmap')\n",
    "plt.show()"
   ]
  },
  {
   "cell_type": "markdown",
   "metadata": {},
   "source": [
    "Clean Data Correlation Matrix"
   ]
  },
  {
   "cell_type": "code",
   "execution_count": null,
   "metadata": {},
   "outputs": [],
   "source": [
    "# Select only numerical columns\n",
    "numeric_columns = heart_attack_clean.select_dtypes(include=['number'])\n",
    "\n",
    "# Compute the correlation matrix\n",
    "corr_matrix = numeric_columns.corr()\n",
    "\n",
    "# Create a heatmap\n",
    "plt.figure(figsize=(12, 10))\n",
    "sns.heatmap(corr_matrix, annot=True, cmap='coolwarm', fmt='.2f')\n",
    "plt.title('Clean Numeric Columns Only, Correlation Matrix Heatmap')\n",
    "plt.show()"
   ]
  },
  {
   "cell_type": "markdown",
   "metadata": {},
   "source": [
    "**Numeric Only Correlation Matrix - Comments**\n",
    "\n",
    "Within the numerical columns only, the heatmap shows there is a correlation between:\n",
    "\n",
    "- BMI and WeightinKilograms\n",
    "- WeightinKilograms and HeightinMeters\n",
    "- MentalHealthDays and PhysicalHealthDays"
   ]
  },
  {
   "cell_type": "markdown",
   "metadata": {},
   "source": [
    "---"
   ]
  }
 ],
 "metadata": {
  "language_info": {
   "name": "python"
  },
  "orig_nbformat": 4
 },
 "nbformat": 4,
 "nbformat_minor": 2
}
